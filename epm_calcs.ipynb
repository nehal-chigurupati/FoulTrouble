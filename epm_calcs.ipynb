{
  "nbformat": 4,
  "nbformat_minor": 0,
  "metadata": {
    "colab": {
      "provenance": []
    },
    "kernelspec": {
      "name": "python3",
      "display_name": "Python 3"
    },
    "language_info": {
      "name": "python"
    }
  },
  "cells": [
    {
      "cell_type": "code",
      "execution_count": null,
      "metadata": {
        "id": "46x9QBAXAN8z"
      },
      "outputs": [],
      "source": [
        "import pandas as pd\n",
        "import numpy as np\n",
        "from tqdm import tqdm\n",
        "from nba_api.stats.endpoints import leaguegamefinder"
      ]
    },
    {
      "cell_type": "code",
      "source": [
        "epm = pd.read_csv('epm_data.csv')"
      ],
      "metadata": {
        "id": "P8DRYDlIAZIB"
      },
      "execution_count": null,
      "outputs": []
    },
    {
      "cell_type": "code",
      "source": [
        "epm[\"epm_per_poss\"] = epm[\"epm\"] / 100"
      ],
      "metadata": {
        "id": "F366Xb8kAa3v"
      },
      "execution_count": null,
      "outputs": []
    },
    {
      "cell_type": "code",
      "source": [
        "\"\"\"\n",
        "League average pace is 99.1 possessions per 48 minutes, which is sufficiently\n",
        "close to a possession per minute.\n",
        "\"\"\""
      ],
      "metadata": {
        "id": "qbg_lT8KTwyJ",
        "colab": {
          "base_uri": "https://localhost:8080/",
          "height": 35
        },
        "outputId": "5b3837b8-8690-4e38-8a55-e26e085a8e82"
      },
      "execution_count": null,
      "outputs": [
        {
          "output_type": "execute_result",
          "data": {
            "text/plain": [
              "'\\nLeague average pace is 99.1 possessions per 48 minutes, which is sufficiently\\nclose to a possession per minute.\\n'"
            ],
            "application/vnd.google.colaboratory.intrinsic+json": {
              "type": "string"
            }
          },
          "metadata": {},
          "execution_count": 34
        }
      ]
    },
    {
      "cell_type": "code",
      "source": [
        "epm[\"epm_per_min\"] = epm[\"epm_per_poss\"]"
      ],
      "metadata": {
        "id": "FDJH1jV4UabM"
      },
      "execution_count": null,
      "outputs": []
    },
    {
      "cell_type": "code",
      "source": [
        "all_shots = pd.read_csv('pbpstats-tracking-shots.csv', engine='c')"
      ],
      "metadata": {
        "id": "RJwnAMblCxj-"
      },
      "execution_count": null,
      "outputs": []
    },
    {
      "cell_type": "code",
      "source": [
        "made_shots = all_shots[all_shots[\"Made\"] == True]"
      ],
      "metadata": {
        "id": "Sxoc5xKfcOil"
      },
      "execution_count": null,
      "outputs": []
    },
    {
      "cell_type": "code",
      "source": [
        "made_shots_not_4 = made_shots[~made_shots[\"GameId\"].astype(str).str.startswith('4')]"
      ],
      "metadata": {
        "id": "rdWZeBHAg67k"
      },
      "execution_count": null,
      "outputs": []
    },
    {
      "cell_type": "code",
      "source": [
        "game_data = pd.read_csv(r'game_log.csv', engine='c')"
      ],
      "metadata": {
        "id": "uvU6O-w4bbVC"
      },
      "execution_count": null,
      "outputs": []
    },
    {
      "cell_type": "code",
      "source": [
        "data = leaguegamefinder.LeagueGameFinder()"
      ],
      "metadata": {
        "id": "6eGRgKFpi2PP"
      },
      "execution_count": null,
      "outputs": []
    },
    {
      "cell_type": "code",
      "source": [
        "game_data = data.get_data_frames()[0]"
      ],
      "metadata": {
        "id": "zseWZbuHjGvx"
      },
      "execution_count": null,
      "outputs": []
    },
    {
      "cell_type": "code",
      "source": [
        "data[data[\"GAME_ID\"] == \"0022000628\"]"
      ],
      "metadata": {
        "colab": {
          "base_uri": "https://localhost:8080/",
          "height": 196
        },
        "id": "Iwa9sTmXjZS2",
        "outputId": "83a5f714-aa25-4fd7-f419-fe9cb84f8e12"
      },
      "execution_count": null,
      "outputs": [
        {
          "output_type": "execute_result",
          "data": {
            "text/plain": [
              "      SEASON_ID     TEAM_ID TEAM_ABBREVIATION               TEAM_NAME  \\\n",
              "21975     22020  1610612756               PHX            Phoenix Suns   \n",
              "21981     22020  1610612750               MIN  Minnesota Timberwolves   \n",
              "\n",
              "          GAME_ID   GAME_DATE      MATCHUP WL  MIN  PTS  ...  FT_PCT  OREB  \\\n",
              "21975  0022000628  2021-03-18  PHX vs. MIN  L  240  119  ...   0.737     9   \n",
              "21981  0022000628  2021-03-18    MIN @ PHX  W  240  123  ...   0.686    11   \n",
              "\n",
              "       DREB  REB  AST  STL  BLK  TOV  PF  PLUS_MINUS  \n",
              "21975    38   47   29    6    6   22  30        -4.0  \n",
              "21981    27   38   22   14    4   12  16         4.0  \n",
              "\n",
              "[2 rows x 28 columns]"
            ],
            "text/html": [
              "\n",
              "  <div id=\"df-7ea5f33d-0697-4acd-a6a0-f279447b23f7\" class=\"colab-df-container\">\n",
              "    <div>\n",
              "<style scoped>\n",
              "    .dataframe tbody tr th:only-of-type {\n",
              "        vertical-align: middle;\n",
              "    }\n",
              "\n",
              "    .dataframe tbody tr th {\n",
              "        vertical-align: top;\n",
              "    }\n",
              "\n",
              "    .dataframe thead th {\n",
              "        text-align: right;\n",
              "    }\n",
              "</style>\n",
              "<table border=\"1\" class=\"dataframe\">\n",
              "  <thead>\n",
              "    <tr style=\"text-align: right;\">\n",
              "      <th></th>\n",
              "      <th>SEASON_ID</th>\n",
              "      <th>TEAM_ID</th>\n",
              "      <th>TEAM_ABBREVIATION</th>\n",
              "      <th>TEAM_NAME</th>\n",
              "      <th>GAME_ID</th>\n",
              "      <th>GAME_DATE</th>\n",
              "      <th>MATCHUP</th>\n",
              "      <th>WL</th>\n",
              "      <th>MIN</th>\n",
              "      <th>PTS</th>\n",
              "      <th>...</th>\n",
              "      <th>FT_PCT</th>\n",
              "      <th>OREB</th>\n",
              "      <th>DREB</th>\n",
              "      <th>REB</th>\n",
              "      <th>AST</th>\n",
              "      <th>STL</th>\n",
              "      <th>BLK</th>\n",
              "      <th>TOV</th>\n",
              "      <th>PF</th>\n",
              "      <th>PLUS_MINUS</th>\n",
              "    </tr>\n",
              "  </thead>\n",
              "  <tbody>\n",
              "    <tr>\n",
              "      <th>21975</th>\n",
              "      <td>22020</td>\n",
              "      <td>1610612756</td>\n",
              "      <td>PHX</td>\n",
              "      <td>Phoenix Suns</td>\n",
              "      <td>0022000628</td>\n",
              "      <td>2021-03-18</td>\n",
              "      <td>PHX vs. MIN</td>\n",
              "      <td>L</td>\n",
              "      <td>240</td>\n",
              "      <td>119</td>\n",
              "      <td>...</td>\n",
              "      <td>0.737</td>\n",
              "      <td>9</td>\n",
              "      <td>38</td>\n",
              "      <td>47</td>\n",
              "      <td>29</td>\n",
              "      <td>6</td>\n",
              "      <td>6</td>\n",
              "      <td>22</td>\n",
              "      <td>30</td>\n",
              "      <td>-4.0</td>\n",
              "    </tr>\n",
              "    <tr>\n",
              "      <th>21981</th>\n",
              "      <td>22020</td>\n",
              "      <td>1610612750</td>\n",
              "      <td>MIN</td>\n",
              "      <td>Minnesota Timberwolves</td>\n",
              "      <td>0022000628</td>\n",
              "      <td>2021-03-18</td>\n",
              "      <td>MIN @ PHX</td>\n",
              "      <td>W</td>\n",
              "      <td>240</td>\n",
              "      <td>123</td>\n",
              "      <td>...</td>\n",
              "      <td>0.686</td>\n",
              "      <td>11</td>\n",
              "      <td>27</td>\n",
              "      <td>38</td>\n",
              "      <td>22</td>\n",
              "      <td>14</td>\n",
              "      <td>4</td>\n",
              "      <td>12</td>\n",
              "      <td>16</td>\n",
              "      <td>4.0</td>\n",
              "    </tr>\n",
              "  </tbody>\n",
              "</table>\n",
              "<p>2 rows × 28 columns</p>\n",
              "</div>\n",
              "    <div class=\"colab-df-buttons\">\n",
              "\n",
              "  <div class=\"colab-df-container\">\n",
              "    <button class=\"colab-df-convert\" onclick=\"convertToInteractive('df-7ea5f33d-0697-4acd-a6a0-f279447b23f7')\"\n",
              "            title=\"Convert this dataframe to an interactive table.\"\n",
              "            style=\"display:none;\">\n",
              "\n",
              "  <svg xmlns=\"http://www.w3.org/2000/svg\" height=\"24px\" viewBox=\"0 -960 960 960\">\n",
              "    <path d=\"M120-120v-720h720v720H120Zm60-500h600v-160H180v160Zm220 220h160v-160H400v160Zm0 220h160v-160H400v160ZM180-400h160v-160H180v160Zm440 0h160v-160H620v160ZM180-180h160v-160H180v160Zm440 0h160v-160H620v160Z\"/>\n",
              "  </svg>\n",
              "    </button>\n",
              "\n",
              "  <style>\n",
              "    .colab-df-container {\n",
              "      display:flex;\n",
              "      gap: 12px;\n",
              "    }\n",
              "\n",
              "    .colab-df-convert {\n",
              "      background-color: #E8F0FE;\n",
              "      border: none;\n",
              "      border-radius: 50%;\n",
              "      cursor: pointer;\n",
              "      display: none;\n",
              "      fill: #1967D2;\n",
              "      height: 32px;\n",
              "      padding: 0 0 0 0;\n",
              "      width: 32px;\n",
              "    }\n",
              "\n",
              "    .colab-df-convert:hover {\n",
              "      background-color: #E2EBFA;\n",
              "      box-shadow: 0px 1px 2px rgba(60, 64, 67, 0.3), 0px 1px 3px 1px rgba(60, 64, 67, 0.15);\n",
              "      fill: #174EA6;\n",
              "    }\n",
              "\n",
              "    .colab-df-buttons div {\n",
              "      margin-bottom: 4px;\n",
              "    }\n",
              "\n",
              "    [theme=dark] .colab-df-convert {\n",
              "      background-color: #3B4455;\n",
              "      fill: #D2E3FC;\n",
              "    }\n",
              "\n",
              "    [theme=dark] .colab-df-convert:hover {\n",
              "      background-color: #434B5C;\n",
              "      box-shadow: 0px 1px 3px 1px rgba(0, 0, 0, 0.15);\n",
              "      filter: drop-shadow(0px 1px 2px rgba(0, 0, 0, 0.3));\n",
              "      fill: #FFFFFF;\n",
              "    }\n",
              "  </style>\n",
              "\n",
              "    <script>\n",
              "      const buttonEl =\n",
              "        document.querySelector('#df-7ea5f33d-0697-4acd-a6a0-f279447b23f7 button.colab-df-convert');\n",
              "      buttonEl.style.display =\n",
              "        google.colab.kernel.accessAllowed ? 'block' : 'none';\n",
              "\n",
              "      async function convertToInteractive(key) {\n",
              "        const element = document.querySelector('#df-7ea5f33d-0697-4acd-a6a0-f279447b23f7');\n",
              "        const dataTable =\n",
              "          await google.colab.kernel.invokeFunction('convertToInteractive',\n",
              "                                                    [key], {});\n",
              "        if (!dataTable) return;\n",
              "\n",
              "        const docLinkHtml = 'Like what you see? Visit the ' +\n",
              "          '<a target=\"_blank\" href=https://colab.research.google.com/notebooks/data_table.ipynb>data table notebook</a>'\n",
              "          + ' to learn more about interactive tables.';\n",
              "        element.innerHTML = '';\n",
              "        dataTable['output_type'] = 'display_data';\n",
              "        await google.colab.output.renderOutput(dataTable, element);\n",
              "        const docLink = document.createElement('div');\n",
              "        docLink.innerHTML = docLinkHtml;\n",
              "        element.appendChild(docLink);\n",
              "      }\n",
              "    </script>\n",
              "  </div>\n",
              "\n",
              "\n",
              "<div id=\"df-16a108c9-2d95-48f8-a902-f8b69e96a18f\">\n",
              "  <button class=\"colab-df-quickchart\" onclick=\"quickchart('df-16a108c9-2d95-48f8-a902-f8b69e96a18f')\"\n",
              "            title=\"Suggest charts\"\n",
              "            style=\"display:none;\">\n",
              "\n",
              "<svg xmlns=\"http://www.w3.org/2000/svg\" height=\"24px\"viewBox=\"0 0 24 24\"\n",
              "     width=\"24px\">\n",
              "    <g>\n",
              "        <path d=\"M19 3H5c-1.1 0-2 .9-2 2v14c0 1.1.9 2 2 2h14c1.1 0 2-.9 2-2V5c0-1.1-.9-2-2-2zM9 17H7v-7h2v7zm4 0h-2V7h2v10zm4 0h-2v-4h2v4z\"/>\n",
              "    </g>\n",
              "</svg>\n",
              "  </button>\n",
              "\n",
              "<style>\n",
              "  .colab-df-quickchart {\n",
              "      --bg-color: #E8F0FE;\n",
              "      --fill-color: #1967D2;\n",
              "      --hover-bg-color: #E2EBFA;\n",
              "      --hover-fill-color: #174EA6;\n",
              "      --disabled-fill-color: #AAA;\n",
              "      --disabled-bg-color: #DDD;\n",
              "  }\n",
              "\n",
              "  [theme=dark] .colab-df-quickchart {\n",
              "      --bg-color: #3B4455;\n",
              "      --fill-color: #D2E3FC;\n",
              "      --hover-bg-color: #434B5C;\n",
              "      --hover-fill-color: #FFFFFF;\n",
              "      --disabled-bg-color: #3B4455;\n",
              "      --disabled-fill-color: #666;\n",
              "  }\n",
              "\n",
              "  .colab-df-quickchart {\n",
              "    background-color: var(--bg-color);\n",
              "    border: none;\n",
              "    border-radius: 50%;\n",
              "    cursor: pointer;\n",
              "    display: none;\n",
              "    fill: var(--fill-color);\n",
              "    height: 32px;\n",
              "    padding: 0;\n",
              "    width: 32px;\n",
              "  }\n",
              "\n",
              "  .colab-df-quickchart:hover {\n",
              "    background-color: var(--hover-bg-color);\n",
              "    box-shadow: 0 1px 2px rgba(60, 64, 67, 0.3), 0 1px 3px 1px rgba(60, 64, 67, 0.15);\n",
              "    fill: var(--button-hover-fill-color);\n",
              "  }\n",
              "\n",
              "  .colab-df-quickchart-complete:disabled,\n",
              "  .colab-df-quickchart-complete:disabled:hover {\n",
              "    background-color: var(--disabled-bg-color);\n",
              "    fill: var(--disabled-fill-color);\n",
              "    box-shadow: none;\n",
              "  }\n",
              "\n",
              "  .colab-df-spinner {\n",
              "    border: 2px solid var(--fill-color);\n",
              "    border-color: transparent;\n",
              "    border-bottom-color: var(--fill-color);\n",
              "    animation:\n",
              "      spin 1s steps(1) infinite;\n",
              "  }\n",
              "\n",
              "  @keyframes spin {\n",
              "    0% {\n",
              "      border-color: transparent;\n",
              "      border-bottom-color: var(--fill-color);\n",
              "      border-left-color: var(--fill-color);\n",
              "    }\n",
              "    20% {\n",
              "      border-color: transparent;\n",
              "      border-left-color: var(--fill-color);\n",
              "      border-top-color: var(--fill-color);\n",
              "    }\n",
              "    30% {\n",
              "      border-color: transparent;\n",
              "      border-left-color: var(--fill-color);\n",
              "      border-top-color: var(--fill-color);\n",
              "      border-right-color: var(--fill-color);\n",
              "    }\n",
              "    40% {\n",
              "      border-color: transparent;\n",
              "      border-right-color: var(--fill-color);\n",
              "      border-top-color: var(--fill-color);\n",
              "    }\n",
              "    60% {\n",
              "      border-color: transparent;\n",
              "      border-right-color: var(--fill-color);\n",
              "    }\n",
              "    80% {\n",
              "      border-color: transparent;\n",
              "      border-right-color: var(--fill-color);\n",
              "      border-bottom-color: var(--fill-color);\n",
              "    }\n",
              "    90% {\n",
              "      border-color: transparent;\n",
              "      border-bottom-color: var(--fill-color);\n",
              "    }\n",
              "  }\n",
              "</style>\n",
              "\n",
              "  <script>\n",
              "    async function quickchart(key) {\n",
              "      const quickchartButtonEl =\n",
              "        document.querySelector('#' + key + ' button');\n",
              "      quickchartButtonEl.disabled = true;  // To prevent multiple clicks.\n",
              "      quickchartButtonEl.classList.add('colab-df-spinner');\n",
              "      try {\n",
              "        const charts = await google.colab.kernel.invokeFunction(\n",
              "            'suggestCharts', [key], {});\n",
              "      } catch (error) {\n",
              "        console.error('Error during call to suggestCharts:', error);\n",
              "      }\n",
              "      quickchartButtonEl.classList.remove('colab-df-spinner');\n",
              "      quickchartButtonEl.classList.add('colab-df-quickchart-complete');\n",
              "    }\n",
              "    (() => {\n",
              "      let quickchartButtonEl =\n",
              "        document.querySelector('#df-16a108c9-2d95-48f8-a902-f8b69e96a18f button');\n",
              "      quickchartButtonEl.style.display =\n",
              "        google.colab.kernel.accessAllowed ? 'block' : 'none';\n",
              "    })();\n",
              "  </script>\n",
              "</div>\n",
              "\n",
              "    </div>\n",
              "  </div>\n"
            ],
            "application/vnd.google.colaboratory.intrinsic+json": {
              "type": "dataframe"
            }
          },
          "metadata": {},
          "execution_count": 28
        }
      ]
    },
    {
      "cell_type": "code",
      "source": [
        "def did_team_win_game(team_id, game_id):\n",
        "  df = game_data[game_data[\"GAME_ID\"] == game_id]\n",
        "  df = df[df[\"TEAM_ID\"] == team_id]\n",
        "  if len(df) != 1:\n",
        "    raise Exception(\"Issue finding matching game\")\n",
        "\n",
        "  WL = df.iloc[0][\"WL\"]\n",
        "  if WL == \"W\":\n",
        "    return 1\n",
        "  else:\n",
        "    return 0"
      ],
      "metadata": {
        "id": "sl6Z2VrNauLJ"
      },
      "execution_count": null,
      "outputs": []
    },
    {
      "cell_type": "code",
      "source": [
        "margin = []\n",
        "quarter_one = []\n",
        "quarter_two = []\n",
        "quarter_three = []\n",
        "quarter_four = []\n",
        "win = []\n",
        "missing_vals = 0\n",
        "all_missing_vals = []\n",
        "\n",
        "for index, row in tqdm(made_shots_not_4.iterrows()):\n",
        "  game_id = \"00\" + str(row[\"GameId\"])\n",
        "  try:\n",
        "    if row[\"Period\"] in [1, 2, 3, 4]:\n",
        "      margin.append(row[\"Margin\"])\n",
        "      if row[\"Period\"] == 1:\n",
        "        quarter_one.append(1)\n",
        "        quarter_two.append(0)\n",
        "        quarter_three.append(0)\n",
        "        quarter_four.append(0)\n",
        "\n",
        "      if row[\"Period\"] == 2:\n",
        "        quarter_one.append(0)\n",
        "        quarter_two.append(1)\n",
        "        quarter_three.append(0)\n",
        "        quarter_four.append(0)\n",
        "\n",
        "      if row[\"Period\"] == 3:\n",
        "        quarter_one.append(0)\n",
        "        quarter_two.append(0)\n",
        "        quarter_three.append(1)\n",
        "        quarter_four.append(0)\n",
        "\n",
        "      if row[\"Period\"] == 4:\n",
        "        quarter_one.append(0)\n",
        "        quarter_two.append(0)\n",
        "        quarter_three.append(0)\n",
        "        quarter_four.append(1)\n",
        "\n",
        "      win.append(did_team_win_game(row[\"TeamId\"], game_id))\n",
        "  except:\n",
        "    missing_vals += 1\n",
        "    all_missing_vals.append(game_id)\n",
        "    continue\n",
        "\n",
        "print(str(missing_vals) + \" missing vals.\")\n",
        "print(str((100 * missing_vals) / len(made_shots)) + \" percent missing.\")\n",
        "\n"
      ],
      "metadata": {
        "colab": {
          "base_uri": "https://localhost:8080/"
        },
        "id": "b3Cg8bDdVuie",
        "outputId": "dceb14a2-6139-4726-a3a8-aaf573c6e13c"
      },
      "execution_count": null,
      "outputs": [
        {
          "output_type": "stream",
          "name": "stderr",
          "text": [
            "7914it [01:20, 98.71it/s] "
          ]
        },
        {
          "output_type": "stream",
          "name": "stdout",
          "text": [
            "0 missing vals.\n",
            "0.0 percent missing.\n"
          ]
        },
        {
          "output_type": "stream",
          "name": "stderr",
          "text": [
            "\n"
          ]
        }
      ]
    },
    {
      "cell_type": "code",
      "source": [
        "X = pd.DataFrame({\"Margin\": margin, \"quarter_one\": quarter_one, \"quarter_two\": quarter_two, \"quarter_three\": quarter_three, \"quarter_four\": quarter_four, \"Win\": win})"
      ],
      "metadata": {
        "id": "IlZsUYLniRPY"
      },
      "execution_count": null,
      "outputs": []
    },
    {
      "cell_type": "code",
      "source": [
        "from sklearn.linear_model import LogisticRegression\n",
        "from sklearn.preprocessing import StandardScaler\n",
        "import pandas as pd\n",
        "X = X[X[\"quarter_four\"] == 1]\n",
        "y = X[[\"Win\"]]\n",
        "X = X[[\"Margin\"]]\n",
        "scaler = StandardScaler()\n",
        "X_scaled = scaler.fit_transform(X.values.reshape(-1, 1))\n",
        "# Create a logistic regression model\n",
        "model = LogisticRegression()\n",
        "model.fit(X_scaled, y.values.ravel())\n",
        "\n",
        "# Get the coefficients\n",
        "intercept = model.intercept_[0]\n",
        "\n",
        "# Calculate probability for a one-point increase in each quarter\n",
        "coef_point_diff = model.coef_[0][0]\n",
        "\n",
        "odds_ratio = np.exp(coef_point_diff)\n",
        "\n",
        "print(f\"Odds Ratio for Point Differential: {odds_ratio}\")"
      ],
      "metadata": {
        "id": "_L3hJoYNVjOQ",
        "colab": {
          "base_uri": "https://localhost:8080/"
        },
        "outputId": "8a6a2c56-63e0-46e2-fadb-6395f3d27894"
      },
      "execution_count": null,
      "outputs": [
        {
          "output_type": "stream",
          "name": "stdout",
          "text": [
            "Odds Ratio for Point Differential: 21.084091885423227\n"
          ]
        }
      ]
    },
    {
      "cell_type": "markdown",
      "source": [
        "New idea: each data point should be a game. The first feature should be point differential in the first quarter, second feature should be point differential in the second quarter, and so on. Make sure it is the DIFFERENCE - margin of this quarter minus margin of last quarter"
      ],
      "metadata": {
        "id": "TxOit0l6uLcn"
      }
    },
    {
      "cell_type": "code",
      "source": [
        "made_shots_not_4.columns"
      ],
      "metadata": {
        "colab": {
          "base_uri": "https://localhost:8080/"
        },
        "id": "8g1b4HLyvguZ",
        "outputId": "20f150fd-7053-4eb1-ccac-db3ab401df1c"
      },
      "execution_count": null,
      "outputs": [
        {
          "output_type": "execute_result",
          "data": {
            "text/plain": [
              "Index(['EventNumber', 'Margin', 'OReboundedShotEventNum', 'X', 'ShotQuality',\n",
              "       'OReboundedRebEventNum', 'Y', 'Blocked', 'LineupId', 'Value',\n",
              "       'BlockPlayerId', 'OpponentLineupId', 'PlayerId', 'Assisted', 'And1',\n",
              "       'GameId', 'Made', 'AssistPlayerId', 'Period', 'Time', 'Putback',\n",
              "       'PossessionNumber', 'ShotType', 'Player', 'StartTime', 'Team', 'TeamId',\n",
              "       'Opp', 'OppTeamId', 'VideoUrl', 'Distance', 'ClockTime',\n",
              "       'ClockStartTime', 'AssistPlayer', 'BlockPlayer', 'PassFromPlayerId',\n",
              "       'PassFromPlayer', 'CatchAndShoot', 'PassFromX', 'PassFromY',\n",
              "       'SecondsRemainingOnShotClock', 'WideOpen'],\n",
              "      dtype='object')"
            ]
          },
          "metadata": {},
          "execution_count": 115
        }
      ]
    },
    {
      "cell_type": "code",
      "source": [
        "q1_margin = []\n",
        "q2_margin = []\n",
        "q3_margin = []\n",
        "q4_margin = []\n",
        "win = []\n",
        "missing_vals = 0\n",
        "\n",
        "for game_id in tqdm(np.unique(made_shots_not_4[\"GameId\"])):\n",
        "  game_df = made_shots_not_4[made_shots_not_4[\"GameId\"] == game_id]\n",
        "\n",
        "  for team_id in np.unique(game_df[\"TeamId\"]):\n",
        "    try:\n",
        "      team_df = game_df[game_df[\"TeamId\"] == team_id]\n",
        "      q1_df = team_df[team_df[\"Period\"] == 1]\n",
        "      q1_df = q1_df.sort_values(by='EventNumber', ascending=False)\n",
        "      q1_df[\"Margin\"]\n",
        "      q1 = q1_df[\"Margin\"].values[0]\n",
        "\n",
        "      q2_df = team_df[team_df[\"Period\"] == 2]\n",
        "      q2_df = q2_df.sort_values(by='EventNumber', ascending=False)\n",
        "      q2 = q2_df[\"Margin\"].values[0]\n",
        "\n",
        "      q3_df = team_df[team_df[\"Period\"] == 3]\n",
        "      q3_df = q3_df.sort_values(by='EventNumber', ascending=False)\n",
        "      q3 = q3_df[\"Margin\"].values[0]\n",
        "\n",
        "      q4_df = team_df[team_df[\"Period\"] == 4]\n",
        "      q4_df = q4_df.sort_values(by='EventNumber', ascending=False)\n",
        "      q4 = q4_df[\"Margin\"].values[0]\n",
        "\n",
        "      q1_margin.append(q1)\n",
        "      q2_margin.append(q2 - q1)\n",
        "      q3_margin.append(q3 - q2)\n",
        "      q4_margin.append(q4 - q3)\n",
        "\n",
        "      game_id_string = \"00\" + str(game_id)\n",
        "      win.append(did_team_win_game(team_id, game_id_string))\n",
        "    except:\n",
        "      missing_vals += 1\n",
        "      continue\n",
        "\n",
        "df = pd.DataFrame({\"q1_margin_change\": q1_margin, \"q2_margin_change\": q2_margin, \"q3_margin_change\": q3_margin, \"q4_margin_change\": q4_margin, \"win\": win})\n",
        "print(\"Missing vals: \" + str(missing_vals))"
      ],
      "metadata": {
        "id": "LT5veAfoVIjZ",
        "colab": {
          "base_uri": "https://localhost:8080/"
        },
        "outputId": "e21c00bf-f95d-4204-b23d-a2a62f73c288"
      },
      "execution_count": null,
      "outputs": [
        {
          "output_type": "stream",
          "name": "stderr",
          "text": [
            "100%|██████████| 499/499 [00:08<00:00, 61.93it/s]"
          ]
        },
        {
          "output_type": "stream",
          "name": "stdout",
          "text": [
            "Missing vals: 176\n"
          ]
        },
        {
          "output_type": "stream",
          "name": "stderr",
          "text": [
            "\n"
          ]
        }
      ]
    },
    {
      "cell_type": "code",
      "source": [
        "df"
      ],
      "metadata": {
        "colab": {
          "base_uri": "https://localhost:8080/",
          "height": 424
        },
        "id": "we8M8slYw3U3",
        "outputId": "0f5b8f2e-cf63-48d9-eb12-d61c780f7e93"
      },
      "execution_count": null,
      "outputs": [
        {
          "output_type": "execute_result",
          "data": {
            "text/plain": [
              "     q1_margin_change  q2_margin_change  q3_margin_change  q4_margin_change  \\\n",
              "0                  -6                 8                -9                 7   \n",
              "1                  -8                -3                 7                 1   \n",
              "2                   5               -13                 8               -11   \n",
              "3                  -4                12                 8                -4   \n",
              "4                   0                12                 0               -18   \n",
              "..                ...               ...               ...               ...   \n",
              "500                 3                -1                 2                -3   \n",
              "501                 1                -1                 1                -5   \n",
              "502                -4                 1                 2                -7   \n",
              "503                -1                -6                 6                 3   \n",
              "504                 6                 6                 2                 4   \n",
              "\n",
              "     win  \n",
              "0      0  \n",
              "1      1  \n",
              "2      0  \n",
              "3      1  \n",
              "4      0  \n",
              "..   ...  \n",
              "500    1  \n",
              "501    1  \n",
              "502    0  \n",
              "503    1  \n",
              "504    1  \n",
              "\n",
              "[505 rows x 5 columns]"
            ],
            "text/html": [
              "\n",
              "  <div id=\"df-6ee57666-cc72-480c-beed-dc65dc7d77d1\" class=\"colab-df-container\">\n",
              "    <div>\n",
              "<style scoped>\n",
              "    .dataframe tbody tr th:only-of-type {\n",
              "        vertical-align: middle;\n",
              "    }\n",
              "\n",
              "    .dataframe tbody tr th {\n",
              "        vertical-align: top;\n",
              "    }\n",
              "\n",
              "    .dataframe thead th {\n",
              "        text-align: right;\n",
              "    }\n",
              "</style>\n",
              "<table border=\"1\" class=\"dataframe\">\n",
              "  <thead>\n",
              "    <tr style=\"text-align: right;\">\n",
              "      <th></th>\n",
              "      <th>q1_margin_change</th>\n",
              "      <th>q2_margin_change</th>\n",
              "      <th>q3_margin_change</th>\n",
              "      <th>q4_margin_change</th>\n",
              "      <th>win</th>\n",
              "    </tr>\n",
              "  </thead>\n",
              "  <tbody>\n",
              "    <tr>\n",
              "      <th>0</th>\n",
              "      <td>-6</td>\n",
              "      <td>8</td>\n",
              "      <td>-9</td>\n",
              "      <td>7</td>\n",
              "      <td>0</td>\n",
              "    </tr>\n",
              "    <tr>\n",
              "      <th>1</th>\n",
              "      <td>-8</td>\n",
              "      <td>-3</td>\n",
              "      <td>7</td>\n",
              "      <td>1</td>\n",
              "      <td>1</td>\n",
              "    </tr>\n",
              "    <tr>\n",
              "      <th>2</th>\n",
              "      <td>5</td>\n",
              "      <td>-13</td>\n",
              "      <td>8</td>\n",
              "      <td>-11</td>\n",
              "      <td>0</td>\n",
              "    </tr>\n",
              "    <tr>\n",
              "      <th>3</th>\n",
              "      <td>-4</td>\n",
              "      <td>12</td>\n",
              "      <td>8</td>\n",
              "      <td>-4</td>\n",
              "      <td>1</td>\n",
              "    </tr>\n",
              "    <tr>\n",
              "      <th>4</th>\n",
              "      <td>0</td>\n",
              "      <td>12</td>\n",
              "      <td>0</td>\n",
              "      <td>-18</td>\n",
              "      <td>0</td>\n",
              "    </tr>\n",
              "    <tr>\n",
              "      <th>...</th>\n",
              "      <td>...</td>\n",
              "      <td>...</td>\n",
              "      <td>...</td>\n",
              "      <td>...</td>\n",
              "      <td>...</td>\n",
              "    </tr>\n",
              "    <tr>\n",
              "      <th>500</th>\n",
              "      <td>3</td>\n",
              "      <td>-1</td>\n",
              "      <td>2</td>\n",
              "      <td>-3</td>\n",
              "      <td>1</td>\n",
              "    </tr>\n",
              "    <tr>\n",
              "      <th>501</th>\n",
              "      <td>1</td>\n",
              "      <td>-1</td>\n",
              "      <td>1</td>\n",
              "      <td>-5</td>\n",
              "      <td>1</td>\n",
              "    </tr>\n",
              "    <tr>\n",
              "      <th>502</th>\n",
              "      <td>-4</td>\n",
              "      <td>1</td>\n",
              "      <td>2</td>\n",
              "      <td>-7</td>\n",
              "      <td>0</td>\n",
              "    </tr>\n",
              "    <tr>\n",
              "      <th>503</th>\n",
              "      <td>-1</td>\n",
              "      <td>-6</td>\n",
              "      <td>6</td>\n",
              "      <td>3</td>\n",
              "      <td>1</td>\n",
              "    </tr>\n",
              "    <tr>\n",
              "      <th>504</th>\n",
              "      <td>6</td>\n",
              "      <td>6</td>\n",
              "      <td>2</td>\n",
              "      <td>4</td>\n",
              "      <td>1</td>\n",
              "    </tr>\n",
              "  </tbody>\n",
              "</table>\n",
              "<p>505 rows × 5 columns</p>\n",
              "</div>\n",
              "    <div class=\"colab-df-buttons\">\n",
              "\n",
              "  <div class=\"colab-df-container\">\n",
              "    <button class=\"colab-df-convert\" onclick=\"convertToInteractive('df-6ee57666-cc72-480c-beed-dc65dc7d77d1')\"\n",
              "            title=\"Convert this dataframe to an interactive table.\"\n",
              "            style=\"display:none;\">\n",
              "\n",
              "  <svg xmlns=\"http://www.w3.org/2000/svg\" height=\"24px\" viewBox=\"0 -960 960 960\">\n",
              "    <path d=\"M120-120v-720h720v720H120Zm60-500h600v-160H180v160Zm220 220h160v-160H400v160Zm0 220h160v-160H400v160ZM180-400h160v-160H180v160Zm440 0h160v-160H620v160ZM180-180h160v-160H180v160Zm440 0h160v-160H620v160Z\"/>\n",
              "  </svg>\n",
              "    </button>\n",
              "\n",
              "  <style>\n",
              "    .colab-df-container {\n",
              "      display:flex;\n",
              "      gap: 12px;\n",
              "    }\n",
              "\n",
              "    .colab-df-convert {\n",
              "      background-color: #E8F0FE;\n",
              "      border: none;\n",
              "      border-radius: 50%;\n",
              "      cursor: pointer;\n",
              "      display: none;\n",
              "      fill: #1967D2;\n",
              "      height: 32px;\n",
              "      padding: 0 0 0 0;\n",
              "      width: 32px;\n",
              "    }\n",
              "\n",
              "    .colab-df-convert:hover {\n",
              "      background-color: #E2EBFA;\n",
              "      box-shadow: 0px 1px 2px rgba(60, 64, 67, 0.3), 0px 1px 3px 1px rgba(60, 64, 67, 0.15);\n",
              "      fill: #174EA6;\n",
              "    }\n",
              "\n",
              "    .colab-df-buttons div {\n",
              "      margin-bottom: 4px;\n",
              "    }\n",
              "\n",
              "    [theme=dark] .colab-df-convert {\n",
              "      background-color: #3B4455;\n",
              "      fill: #D2E3FC;\n",
              "    }\n",
              "\n",
              "    [theme=dark] .colab-df-convert:hover {\n",
              "      background-color: #434B5C;\n",
              "      box-shadow: 0px 1px 3px 1px rgba(0, 0, 0, 0.15);\n",
              "      filter: drop-shadow(0px 1px 2px rgba(0, 0, 0, 0.3));\n",
              "      fill: #FFFFFF;\n",
              "    }\n",
              "  </style>\n",
              "\n",
              "    <script>\n",
              "      const buttonEl =\n",
              "        document.querySelector('#df-6ee57666-cc72-480c-beed-dc65dc7d77d1 button.colab-df-convert');\n",
              "      buttonEl.style.display =\n",
              "        google.colab.kernel.accessAllowed ? 'block' : 'none';\n",
              "\n",
              "      async function convertToInteractive(key) {\n",
              "        const element = document.querySelector('#df-6ee57666-cc72-480c-beed-dc65dc7d77d1');\n",
              "        const dataTable =\n",
              "          await google.colab.kernel.invokeFunction('convertToInteractive',\n",
              "                                                    [key], {});\n",
              "        if (!dataTable) return;\n",
              "\n",
              "        const docLinkHtml = 'Like what you see? Visit the ' +\n",
              "          '<a target=\"_blank\" href=https://colab.research.google.com/notebooks/data_table.ipynb>data table notebook</a>'\n",
              "          + ' to learn more about interactive tables.';\n",
              "        element.innerHTML = '';\n",
              "        dataTable['output_type'] = 'display_data';\n",
              "        await google.colab.output.renderOutput(dataTable, element);\n",
              "        const docLink = document.createElement('div');\n",
              "        docLink.innerHTML = docLinkHtml;\n",
              "        element.appendChild(docLink);\n",
              "      }\n",
              "    </script>\n",
              "  </div>\n",
              "\n",
              "\n",
              "<div id=\"df-c9b845fa-180a-4937-a943-d84e114260e5\">\n",
              "  <button class=\"colab-df-quickchart\" onclick=\"quickchart('df-c9b845fa-180a-4937-a943-d84e114260e5')\"\n",
              "            title=\"Suggest charts\"\n",
              "            style=\"display:none;\">\n",
              "\n",
              "<svg xmlns=\"http://www.w3.org/2000/svg\" height=\"24px\"viewBox=\"0 0 24 24\"\n",
              "     width=\"24px\">\n",
              "    <g>\n",
              "        <path d=\"M19 3H5c-1.1 0-2 .9-2 2v14c0 1.1.9 2 2 2h14c1.1 0 2-.9 2-2V5c0-1.1-.9-2-2-2zM9 17H7v-7h2v7zm4 0h-2V7h2v10zm4 0h-2v-4h2v4z\"/>\n",
              "    </g>\n",
              "</svg>\n",
              "  </button>\n",
              "\n",
              "<style>\n",
              "  .colab-df-quickchart {\n",
              "      --bg-color: #E8F0FE;\n",
              "      --fill-color: #1967D2;\n",
              "      --hover-bg-color: #E2EBFA;\n",
              "      --hover-fill-color: #174EA6;\n",
              "      --disabled-fill-color: #AAA;\n",
              "      --disabled-bg-color: #DDD;\n",
              "  }\n",
              "\n",
              "  [theme=dark] .colab-df-quickchart {\n",
              "      --bg-color: #3B4455;\n",
              "      --fill-color: #D2E3FC;\n",
              "      --hover-bg-color: #434B5C;\n",
              "      --hover-fill-color: #FFFFFF;\n",
              "      --disabled-bg-color: #3B4455;\n",
              "      --disabled-fill-color: #666;\n",
              "  }\n",
              "\n",
              "  .colab-df-quickchart {\n",
              "    background-color: var(--bg-color);\n",
              "    border: none;\n",
              "    border-radius: 50%;\n",
              "    cursor: pointer;\n",
              "    display: none;\n",
              "    fill: var(--fill-color);\n",
              "    height: 32px;\n",
              "    padding: 0;\n",
              "    width: 32px;\n",
              "  }\n",
              "\n",
              "  .colab-df-quickchart:hover {\n",
              "    background-color: var(--hover-bg-color);\n",
              "    box-shadow: 0 1px 2px rgba(60, 64, 67, 0.3), 0 1px 3px 1px rgba(60, 64, 67, 0.15);\n",
              "    fill: var(--button-hover-fill-color);\n",
              "  }\n",
              "\n",
              "  .colab-df-quickchart-complete:disabled,\n",
              "  .colab-df-quickchart-complete:disabled:hover {\n",
              "    background-color: var(--disabled-bg-color);\n",
              "    fill: var(--disabled-fill-color);\n",
              "    box-shadow: none;\n",
              "  }\n",
              "\n",
              "  .colab-df-spinner {\n",
              "    border: 2px solid var(--fill-color);\n",
              "    border-color: transparent;\n",
              "    border-bottom-color: var(--fill-color);\n",
              "    animation:\n",
              "      spin 1s steps(1) infinite;\n",
              "  }\n",
              "\n",
              "  @keyframes spin {\n",
              "    0% {\n",
              "      border-color: transparent;\n",
              "      border-bottom-color: var(--fill-color);\n",
              "      border-left-color: var(--fill-color);\n",
              "    }\n",
              "    20% {\n",
              "      border-color: transparent;\n",
              "      border-left-color: var(--fill-color);\n",
              "      border-top-color: var(--fill-color);\n",
              "    }\n",
              "    30% {\n",
              "      border-color: transparent;\n",
              "      border-left-color: var(--fill-color);\n",
              "      border-top-color: var(--fill-color);\n",
              "      border-right-color: var(--fill-color);\n",
              "    }\n",
              "    40% {\n",
              "      border-color: transparent;\n",
              "      border-right-color: var(--fill-color);\n",
              "      border-top-color: var(--fill-color);\n",
              "    }\n",
              "    60% {\n",
              "      border-color: transparent;\n",
              "      border-right-color: var(--fill-color);\n",
              "    }\n",
              "    80% {\n",
              "      border-color: transparent;\n",
              "      border-right-color: var(--fill-color);\n",
              "      border-bottom-color: var(--fill-color);\n",
              "    }\n",
              "    90% {\n",
              "      border-color: transparent;\n",
              "      border-bottom-color: var(--fill-color);\n",
              "    }\n",
              "  }\n",
              "</style>\n",
              "\n",
              "  <script>\n",
              "    async function quickchart(key) {\n",
              "      const quickchartButtonEl =\n",
              "        document.querySelector('#' + key + ' button');\n",
              "      quickchartButtonEl.disabled = true;  // To prevent multiple clicks.\n",
              "      quickchartButtonEl.classList.add('colab-df-spinner');\n",
              "      try {\n",
              "        const charts = await google.colab.kernel.invokeFunction(\n",
              "            'suggestCharts', [key], {});\n",
              "      } catch (error) {\n",
              "        console.error('Error during call to suggestCharts:', error);\n",
              "      }\n",
              "      quickchartButtonEl.classList.remove('colab-df-spinner');\n",
              "      quickchartButtonEl.classList.add('colab-df-quickchart-complete');\n",
              "    }\n",
              "    (() => {\n",
              "      let quickchartButtonEl =\n",
              "        document.querySelector('#df-c9b845fa-180a-4937-a943-d84e114260e5 button');\n",
              "      quickchartButtonEl.style.display =\n",
              "        google.colab.kernel.accessAllowed ? 'block' : 'none';\n",
              "    })();\n",
              "  </script>\n",
              "</div>\n",
              "\n",
              "  <div id=\"id_4f5ba714-8f84-4618-8d1a-b1d0742d07b1\">\n",
              "    <style>\n",
              "      .colab-df-generate {\n",
              "        background-color: #E8F0FE;\n",
              "        border: none;\n",
              "        border-radius: 50%;\n",
              "        cursor: pointer;\n",
              "        display: none;\n",
              "        fill: #1967D2;\n",
              "        height: 32px;\n",
              "        padding: 0 0 0 0;\n",
              "        width: 32px;\n",
              "      }\n",
              "\n",
              "      .colab-df-generate:hover {\n",
              "        background-color: #E2EBFA;\n",
              "        box-shadow: 0px 1px 2px rgba(60, 64, 67, 0.3), 0px 1px 3px 1px rgba(60, 64, 67, 0.15);\n",
              "        fill: #174EA6;\n",
              "      }\n",
              "\n",
              "      [theme=dark] .colab-df-generate {\n",
              "        background-color: #3B4455;\n",
              "        fill: #D2E3FC;\n",
              "      }\n",
              "\n",
              "      [theme=dark] .colab-df-generate:hover {\n",
              "        background-color: #434B5C;\n",
              "        box-shadow: 0px 1px 3px 1px rgba(0, 0, 0, 0.15);\n",
              "        filter: drop-shadow(0px 1px 2px rgba(0, 0, 0, 0.3));\n",
              "        fill: #FFFFFF;\n",
              "      }\n",
              "    </style>\n",
              "    <button class=\"colab-df-generate\" onclick=\"generateWithVariable('df')\"\n",
              "            title=\"Generate code using this dataframe.\"\n",
              "            style=\"display:none;\">\n",
              "\n",
              "  <svg xmlns=\"http://www.w3.org/2000/svg\" height=\"24px\"viewBox=\"0 0 24 24\"\n",
              "       width=\"24px\">\n",
              "    <path d=\"M7,19H8.4L18.45,9,17,7.55,7,17.6ZM5,21V16.75L18.45,3.32a2,2,0,0,1,2.83,0l1.4,1.43a1.91,1.91,0,0,1,.58,1.4,1.91,1.91,0,0,1-.58,1.4L9.25,21ZM18.45,9,17,7.55Zm-12,3A5.31,5.31,0,0,0,4.9,8.1,5.31,5.31,0,0,0,1,6.5,5.31,5.31,0,0,0,4.9,4.9,5.31,5.31,0,0,0,6.5,1,5.31,5.31,0,0,0,8.1,4.9,5.31,5.31,0,0,0,12,6.5,5.46,5.46,0,0,0,6.5,12Z\"/>\n",
              "  </svg>\n",
              "    </button>\n",
              "    <script>\n",
              "      (() => {\n",
              "      const buttonEl =\n",
              "        document.querySelector('#id_4f5ba714-8f84-4618-8d1a-b1d0742d07b1 button.colab-df-generate');\n",
              "      buttonEl.style.display =\n",
              "        google.colab.kernel.accessAllowed ? 'block' : 'none';\n",
              "\n",
              "      buttonEl.onclick = () => {\n",
              "        google.colab.notebook.generateWithVariable('df');\n",
              "      }\n",
              "      })();\n",
              "    </script>\n",
              "  </div>\n",
              "\n",
              "    </div>\n",
              "  </div>\n"
            ],
            "application/vnd.google.colaboratory.intrinsic+json": {
              "type": "dataframe",
              "variable_name": "df",
              "summary": "{\n  \"name\": \"df\",\n  \"rows\": 505,\n  \"fields\": [\n    {\n      \"column\": \"q1_margin_change\",\n      \"properties\": {\n        \"dtype\": \"number\",\n        \"std\": 6,\n        \"min\": -25,\n        \"max\": 23,\n        \"num_unique_values\": 40,\n        \"samples\": [\n          1,\n          7,\n          -3\n        ],\n        \"semantic_type\": \"\",\n        \"description\": \"\"\n      }\n    },\n    {\n      \"column\": \"q2_margin_change\",\n      \"properties\": {\n        \"dtype\": \"number\",\n        \"std\": 7,\n        \"min\": -23,\n        \"max\": 26,\n        \"num_unique_values\": 45,\n        \"samples\": [\n          -19,\n          7,\n          25\n        ],\n        \"semantic_type\": \"\",\n        \"description\": \"\"\n      }\n    },\n    {\n      \"column\": \"q3_margin_change\",\n      \"properties\": {\n        \"dtype\": \"number\",\n        \"std\": 7,\n        \"min\": -26,\n        \"max\": 23,\n        \"num_unique_values\": 44,\n        \"samples\": [\n          -5,\n          6,\n          -13\n        ],\n        \"semantic_type\": \"\",\n        \"description\": \"\"\n      }\n    },\n    {\n      \"column\": \"q4_margin_change\",\n      \"properties\": {\n        \"dtype\": \"number\",\n        \"std\": 7,\n        \"min\": -19,\n        \"max\": 32,\n        \"num_unique_values\": 43,\n        \"samples\": [\n          -13,\n          0,\n          12\n        ],\n        \"semantic_type\": \"\",\n        \"description\": \"\"\n      }\n    },\n    {\n      \"column\": \"win\",\n      \"properties\": {\n        \"dtype\": \"number\",\n        \"std\": 0,\n        \"min\": 0,\n        \"max\": 1,\n        \"num_unique_values\": 2,\n        \"samples\": [\n          1,\n          0\n        ],\n        \"semantic_type\": \"\",\n        \"description\": \"\"\n      }\n    }\n  ]\n}"
            }
          },
          "metadata": {},
          "execution_count": 128
        }
      ]
    },
    {
      "cell_type": "code",
      "source": [
        "X = df[[\"q1_margin_change\", \"q2_margin_change\", \"q3_margin_change\", \"q4_margin_change\"]]\n",
        "y = df[[\"win\"]]"
      ],
      "metadata": {
        "id": "x5mS4vr6ynTP"
      },
      "execution_count": null,
      "outputs": []
    },
    {
      "cell_type": "code",
      "source": [
        "print(len(X))\n",
        "print(len(y))"
      ],
      "metadata": {
        "colab": {
          "base_uri": "https://localhost:8080/"
        },
        "id": "awzqhsnNyn63",
        "outputId": "e7005cfb-5242-4e41-dd96-df8e0dd60378"
      },
      "execution_count": null,
      "outputs": [
        {
          "output_type": "stream",
          "name": "stdout",
          "text": [
            "505\n",
            "505\n"
          ]
        }
      ]
    },
    {
      "cell_type": "code",
      "source": [
        "import pandas as pd\n",
        "from sklearn.model_selection import train_test_split\n",
        "from sklearn.linear_model import LogisticRegression\n",
        "from sklearn.metrics import accuracy_score, classification_report\n",
        "\n",
        "X_train, X_test, y_train, y_test = train_test_split(X, y, test_size=0.2, random_state=42)\n",
        "\n",
        "model = LogisticRegression()\n",
        "model.fit(X_train, y_train)\n",
        "\n",
        "y_pred = model.predict(X_test)\n",
        "accuracy = accuracy_score(y_test, y_pred)\n",
        "\n",
        "print(f'Accuracy: {accuracy:.2f}')\n",
        "\n",
        "coefficients = pd.DataFrame({'Feature': X.columns, 'Coefficient': model.coef_[0]})\n",
        "print(coefficients)\n"
      ],
      "metadata": {
        "colab": {
          "base_uri": "https://localhost:8080/"
        },
        "id": "HrWIEUoFxug3",
        "outputId": "2c7528dd-adbe-44b9-c483-cf734740c60c"
      },
      "execution_count": null,
      "outputs": [
        {
          "output_type": "stream",
          "name": "stdout",
          "text": [
            "Accuracy: 0.90\n",
            "            Feature  Coefficient\n",
            "0  q1_margin_change     0.306274\n",
            "1  q2_margin_change     0.350086\n",
            "2  q3_margin_change     0.334358\n",
            "3  q4_margin_change     0.319150\n"
          ]
        },
        {
          "output_type": "stream",
          "name": "stderr",
          "text": [
            "/usr/local/lib/python3.10/dist-packages/sklearn/utils/validation.py:1143: DataConversionWarning: A column-vector y was passed when a 1d array was expected. Please change the shape of y to (n_samples, ), for example using ravel().\n",
            "  y = column_or_1d(y, warn=True)\n"
          ]
        }
      ]
    },
    {
      "cell_type": "code",
      "source": [
        "odds_ratios = [round((2.71828 ** coef), 3) for coef in coefficients[\"Coefficient\"].tolist()]\n",
        "print(\"Odds ratios:\")\n",
        "print(odds_ratios)\n",
        "probability_changes = [round((odds / (1 + odds)), 3) for odds in odds_ratios]\n",
        "print(\"Probability changes:\")\n",
        "print(probability_changes)"
      ],
      "metadata": {
        "colab": {
          "base_uri": "https://localhost:8080/"
        },
        "id": "_-LICv8Qyehm",
        "outputId": "08874b13-8fe4-4c8d-a722-bf96c0cdeec6"
      },
      "execution_count": null,
      "outputs": [
        {
          "output_type": "stream",
          "name": "stdout",
          "text": [
            "Odds ratios:\n",
            "[1.358, 1.419, 1.397, 1.376]\n",
            "Probability changes:\n",
            "[0.576, 0.587, 0.583, 0.579]\n"
          ]
        }
      ]
    },
    {
      "cell_type": "code",
      "source": [
        "for feature, prob_change in zip(X.columns, probability_changes):\n",
        "    print(f\"{feature}: +1 change leads to a {prob_change * 100}% change in the probability of winning.\")"
      ],
      "metadata": {
        "colab": {
          "base_uri": "https://localhost:8080/"
        },
        "id": "mhPE0-_oz0F2",
        "outputId": "a5d1b5b5-f2af-4b4f-91ab-796e86960549"
      },
      "execution_count": null,
      "outputs": [
        {
          "output_type": "stream",
          "name": "stdout",
          "text": [
            "q1_margin_change: +1 change leads to a 57.599999999999994% change in the probability of winning.\n",
            "q2_margin_change: +1 change leads to a 58.699999999999996% change in the probability of winning.\n",
            "q3_margin_change: +1 change leads to a 58.3% change in the probability of winning.\n",
            "q4_margin_change: +1 change leads to a 57.9% change in the probability of winning.\n"
          ]
        }
      ]
    },
    {
      "cell_type": "code",
      "source": [],
      "metadata": {
        "id": "XLDl_8g10Al9"
      },
      "execution_count": null,
      "outputs": []
    }
  ]
}