{
  "nbformat": 4,
  "nbformat_minor": 0,
  "metadata": {
    "colab": {
      "provenance": []
    },
    "kernelspec": {
      "name": "python3",
      "display_name": "Python 3"
    },
    "language_info": {
      "name": "python"
    }
  },
  "cells": [
    {
      "cell_type": "code",
      "execution_count": null,
      "metadata": {
        "id": "xC8ZKSKMm2mR"
      },
      "outputs": [],
      "source": [
        "import numpy as np\n",
        "import pandas as pd\n",
        "from tqdm import tqdm"
      ]
    },
    {
      "cell_type": "code",
      "source": [
        "def convert_clock_to_mins(time_str):\n",
        "    minutes, seconds = map(int, time_str.split(\":\"))\n",
        "    return minutes"
      ],
      "metadata": {
        "id": "DqFa_qeKtEKy"
      },
      "execution_count": null,
      "outputs": []
    },
    {
      "cell_type": "code",
      "source": [
        "def mins_in_range(mins, lower_bound):\n",
        "  return int(mins) >= lower_bound and int(mins) < lower_bound + 1"
      ],
      "metadata": {
        "id": "ED-lTf3mvmQf"
      },
      "execution_count": null,
      "outputs": []
    },
    {
      "cell_type": "code",
      "source": [
        "def get_pts_min(i, all_shots):\n",
        "  df = all_shots[all_shots[\"Made\"] == True]\n",
        "  pts_sum = 0\n",
        "  for index, row in df.iterrows():\n",
        "    if row[\"GameClock\"] >= i and row[\"GameClock\"] < i + 1:\n",
        "      pts_sum += row[\"Value\"]\n",
        "\n",
        "  return pts_sum / len(np.unique(all_shots[\"Player\"]))"
      ],
      "metadata": {
        "id": "cj56mWTSp9Rp"
      },
      "execution_count": null,
      "outputs": []
    },
    {
      "cell_type": "code",
      "source": [
        "def add_game_clock(all_shots):\n",
        "  GameClock = []\n",
        "  for index, row in all_shots.iterrows():\n",
        "      GameClock.append(12 * (row[\"Period\"] - 1) + (11 - convert_clock_to_mins(row[\"ClockTime\"])))\n",
        "  all_shots[\"GameClock\"] = GameClock\n",
        "\n",
        "  return all_shots"
      ],
      "metadata": {
        "id": "lIX0WrShzO-K"
      },
      "execution_count": null,
      "outputs": []
    },
    {
      "cell_type": "code",
      "source": [
        "def get_all_pts_per_min(all_shots):\n",
        "  pts = []\n",
        "  for i in tqdm(range(48)):\n",
        "    pts.append(get_pts_min(i, all_shots))\n",
        "\n",
        "  return pd.DataFrame({\"MIN\": range(48), \"PTS\": pts})"
      ],
      "metadata": {
        "id": "r3U9D21rzNKE"
      },
      "execution_count": null,
      "outputs": []
    },
    {
      "cell_type": "code",
      "source": [
        "all_shots = pd.read_csv(\"pbpstats-tracking-shots.csv\", engine=\"c\")"
      ],
      "metadata": {
        "id": "G8HtVIh7yAs4"
      },
      "execution_count": null,
      "outputs": []
    },
    {
      "cell_type": "code",
      "source": [
        "all_shots = add_game_clock(all_shots)"
      ],
      "metadata": {
        "id": "GG_2CLDSx_UF"
      },
      "execution_count": null,
      "outputs": []
    },
    {
      "cell_type": "code",
      "source": [
        "ppm_data = get_all_pts_per_min(all_shots)"
      ],
      "metadata": {
        "colab": {
          "base_uri": "https://localhost:8080/"
        },
        "id": "-QIAuhcuyjjF",
        "outputId": "55c6377b-5093-4bf7-bdd5-44ab10d91541"
      },
      "execution_count": null,
      "outputs": [
        {
          "output_type": "stream",
          "name": "stderr",
          "text": [
            "100%|██████████| 48/48 [00:16<00:00,  2.84it/s]\n"
          ]
        }
      ]
    },
    {
      "cell_type": "code",
      "source": [
        "ppm_data.to_csv(\"ppm_data.csv\")"
      ],
      "metadata": {
        "id": "1UV4znw-rKM1"
      },
      "execution_count": null,
      "outputs": []
    },
    {
      "cell_type": "markdown",
      "source": [
        "Construct L"
      ],
      "metadata": {
        "id": "Ls_5Q_9U0SsS"
      }
    },
    {
      "cell_type": "code",
      "source": [
        "def L(n, k, ppm_data, use_scaled=True):\n",
        "\n",
        "  if use_scaled:\n",
        "    pts_label = \"SCALED_PTS\"\n",
        "  else:\n",
        "    pts_label = \"PTS\"\n",
        "  p = .08\n",
        "  time_until_foul_out = int(np.floor((6 - k) / p))\n",
        "  time_remaining_in_game_after_reinsertion = 48 - 8*k\n",
        "  sum = 0\n",
        "\n",
        "  if time_until_foul_out <= time_remaining_in_game_after_reinsertion:\n",
        "    print(\"Using time until foul out\")\n",
        "    for j in range(time_until_foul_out + 1):\n",
        "      if ((n+j) < 48 and (8*k+j) < 48):\n",
        "        phi_i = ppm_data[ppm_data[\"MIN\"] == (n+j)][pts_label].values[0]\n",
        "        phi_f = ppm_data[ppm_data[\"MIN\"] == (8*k+j)][pts_label].values[0]\n",
        "        sum += (phi_i - phi_f)\n",
        "\n",
        "    return sum\n",
        "  elif time_until_foul_out > time_remaining_in_game_after_reinsertion:\n",
        "    print(\"Using time remaining in game\")\n",
        "    for j in range(time_until_foul_out + 1):\n",
        "      if ((n+j) < 48):\n",
        "        phi_i = ppm_data[ppm_data[\"MIN\"] == (n+j)][pts_label].values[0]\n",
        "        sum += phi_i\n",
        "\n",
        "    for j in range(time_remaining_in_game_after_reinsertion + 1):\n",
        "      if ((8*k+j) < 48):\n",
        "        phi_f = ppm_data[ppm_data[\"MIN\"] == (8*k+j)][pts_label].values[0]\n",
        "        sum -= phi_f\n",
        "\n",
        "    return sum\n"
      ],
      "metadata": {
        "id": "6VjLhK3gz4kL"
      },
      "execution_count": null,
      "outputs": []
    },
    {
      "cell_type": "code",
      "source": [
        "def scale_mins(ppm_data, q2_const = 2.17, q3_const = 3.55, q4_const = 21.08):\n",
        "  scaled_pts = []\n",
        "  for index, row in ppm_data.iterrows():\n",
        "    if 0 <= row[\"MIN\"] < 12:\n",
        "      scaled_pts.append(row[\"PTS\"])\n",
        "    elif 12 <= row[\"MIN\"] < 24:\n",
        "      scaled_pts.append(q2_const * row[\"PTS\"] )\n",
        "    elif 24 <= row[\"MIN\"] < 36:\n",
        "      scaled_pts.append(q3_const * row[\"PTS\"] )\n",
        "    elif 36 <= row[\"MIN\"] < 48:\n",
        "      scaled_pts.append(q4_const * row[\"PTS\"] )\n",
        "    else:\n",
        "      scaled_pts.append(q4_const * row[\"PTS\"])\n",
        "\n",
        "  return scaled_pts"
      ],
      "metadata": {
        "id": "P6rwau9w9azT"
      },
      "execution_count": null,
      "outputs": []
    },
    {
      "cell_type": "code",
      "source": [
        "ppm_data[ppm_data[\"MIN\"] == 47]"
      ],
      "metadata": {
        "colab": {
          "base_uri": "https://localhost:8080/",
          "height": 81
        },
        "id": "UxTw-Skb11tc",
        "outputId": "aec29961-74d6-4fe0-cfa0-e212776ccdf5"
      },
      "execution_count": null,
      "outputs": [
        {
          "output_type": "execute_result",
          "data": {
            "text/plain": [
              "    MIN       PTS\n",
              "47   47  1.103837"
            ],
            "text/html": [
              "\n",
              "  <div id=\"df-7c1c7f8f-4cfe-4d9b-89c2-dc7a1a62d4bf\" class=\"colab-df-container\">\n",
              "    <div>\n",
              "<style scoped>\n",
              "    .dataframe tbody tr th:only-of-type {\n",
              "        vertical-align: middle;\n",
              "    }\n",
              "\n",
              "    .dataframe tbody tr th {\n",
              "        vertical-align: top;\n",
              "    }\n",
              "\n",
              "    .dataframe thead th {\n",
              "        text-align: right;\n",
              "    }\n",
              "</style>\n",
              "<table border=\"1\" class=\"dataframe\">\n",
              "  <thead>\n",
              "    <tr style=\"text-align: right;\">\n",
              "      <th></th>\n",
              "      <th>MIN</th>\n",
              "      <th>PTS</th>\n",
              "    </tr>\n",
              "  </thead>\n",
              "  <tbody>\n",
              "    <tr>\n",
              "      <th>47</th>\n",
              "      <td>47</td>\n",
              "      <td>1.103837</td>\n",
              "    </tr>\n",
              "  </tbody>\n",
              "</table>\n",
              "</div>\n",
              "    <div class=\"colab-df-buttons\">\n",
              "\n",
              "  <div class=\"colab-df-container\">\n",
              "    <button class=\"colab-df-convert\" onclick=\"convertToInteractive('df-7c1c7f8f-4cfe-4d9b-89c2-dc7a1a62d4bf')\"\n",
              "            title=\"Convert this dataframe to an interactive table.\"\n",
              "            style=\"display:none;\">\n",
              "\n",
              "  <svg xmlns=\"http://www.w3.org/2000/svg\" height=\"24px\" viewBox=\"0 -960 960 960\">\n",
              "    <path d=\"M120-120v-720h720v720H120Zm60-500h600v-160H180v160Zm220 220h160v-160H400v160Zm0 220h160v-160H400v160ZM180-400h160v-160H180v160Zm440 0h160v-160H620v160ZM180-180h160v-160H180v160Zm440 0h160v-160H620v160Z\"/>\n",
              "  </svg>\n",
              "    </button>\n",
              "\n",
              "  <style>\n",
              "    .colab-df-container {\n",
              "      display:flex;\n",
              "      gap: 12px;\n",
              "    }\n",
              "\n",
              "    .colab-df-convert {\n",
              "      background-color: #E8F0FE;\n",
              "      border: none;\n",
              "      border-radius: 50%;\n",
              "      cursor: pointer;\n",
              "      display: none;\n",
              "      fill: #1967D2;\n",
              "      height: 32px;\n",
              "      padding: 0 0 0 0;\n",
              "      width: 32px;\n",
              "    }\n",
              "\n",
              "    .colab-df-convert:hover {\n",
              "      background-color: #E2EBFA;\n",
              "      box-shadow: 0px 1px 2px rgba(60, 64, 67, 0.3), 0px 1px 3px 1px rgba(60, 64, 67, 0.15);\n",
              "      fill: #174EA6;\n",
              "    }\n",
              "\n",
              "    .colab-df-buttons div {\n",
              "      margin-bottom: 4px;\n",
              "    }\n",
              "\n",
              "    [theme=dark] .colab-df-convert {\n",
              "      background-color: #3B4455;\n",
              "      fill: #D2E3FC;\n",
              "    }\n",
              "\n",
              "    [theme=dark] .colab-df-convert:hover {\n",
              "      background-color: #434B5C;\n",
              "      box-shadow: 0px 1px 3px 1px rgba(0, 0, 0, 0.15);\n",
              "      filter: drop-shadow(0px 1px 2px rgba(0, 0, 0, 0.3));\n",
              "      fill: #FFFFFF;\n",
              "    }\n",
              "  </style>\n",
              "\n",
              "    <script>\n",
              "      const buttonEl =\n",
              "        document.querySelector('#df-7c1c7f8f-4cfe-4d9b-89c2-dc7a1a62d4bf button.colab-df-convert');\n",
              "      buttonEl.style.display =\n",
              "        google.colab.kernel.accessAllowed ? 'block' : 'none';\n",
              "\n",
              "      async function convertToInteractive(key) {\n",
              "        const element = document.querySelector('#df-7c1c7f8f-4cfe-4d9b-89c2-dc7a1a62d4bf');\n",
              "        const dataTable =\n",
              "          await google.colab.kernel.invokeFunction('convertToInteractive',\n",
              "                                                    [key], {});\n",
              "        if (!dataTable) return;\n",
              "\n",
              "        const docLinkHtml = 'Like what you see? Visit the ' +\n",
              "          '<a target=\"_blank\" href=https://colab.research.google.com/notebooks/data_table.ipynb>data table notebook</a>'\n",
              "          + ' to learn more about interactive tables.';\n",
              "        element.innerHTML = '';\n",
              "        dataTable['output_type'] = 'display_data';\n",
              "        await google.colab.output.renderOutput(dataTable, element);\n",
              "        const docLink = document.createElement('div');\n",
              "        docLink.innerHTML = docLinkHtml;\n",
              "        element.appendChild(docLink);\n",
              "      }\n",
              "    </script>\n",
              "  </div>\n",
              "\n",
              "\n",
              "    </div>\n",
              "  </div>\n"
            ],
            "application/vnd.google.colaboratory.intrinsic+json": {
              "type": "dataframe",
              "summary": "{\n  \"name\": \"ppm_data[ppm_data[\\\"MIN\\\"] == 47]\",\n  \"rows\": 1,\n  \"fields\": [\n    {\n      \"column\": \"MIN\",\n      \"properties\": {\n        \"dtype\": \"number\",\n        \"std\": null,\n        \"min\": 47,\n        \"max\": 47,\n        \"num_unique_values\": 1,\n        \"samples\": [\n          47\n        ],\n        \"semantic_type\": \"\",\n        \"description\": \"\"\n      }\n    },\n    {\n      \"column\": \"PTS\",\n      \"properties\": {\n        \"dtype\": \"number\",\n        \"std\": null,\n        \"min\": 1.1038374717832957,\n        \"max\": 1.1038374717832957,\n        \"num_unique_values\": 1,\n        \"samples\": [\n          1.1038374717832957\n        ],\n        \"semantic_type\": \"\",\n        \"description\": \"\"\n      }\n    }\n  ]\n}"
            }
          },
          "metadata": {},
          "execution_count": 17
        }
      ]
    },
    {
      "cell_type": "code",
      "source": [
        "ppm_data[\"SCALED_PTS\"] = scale_mins(ppm_data)"
      ],
      "metadata": {
        "id": "brhndSpg-EGh"
      },
      "execution_count": null,
      "outputs": []
    },
    {
      "cell_type": "code",
      "source": [
        "L(45, 0, ppm_data, use_scaled=True)"
      ],
      "metadata": {
        "id": "I_e1Y-_31PTD",
        "colab": {
          "base_uri": "https://localhost:8080/"
        },
        "outputId": "cee02bd2-7f9a-4875-fc72-635e22442c6e"
      },
      "execution_count": null,
      "outputs": [
        {
          "output_type": "stream",
          "name": "stdout",
          "text": [
            "Using time remaining in game\n"
          ]
        },
        {
          "output_type": "execute_result",
          "data": {
            "text/plain": [
              "-356.00282167042883"
            ]
          },
          "metadata": {},
          "execution_count": 42
        }
      ]
    },
    {
      "cell_type": "code",
      "source": [],
      "metadata": {
        "id": "c2uUwGkD9Ssp"
      },
      "execution_count": null,
      "outputs": []
    }
  ]
}