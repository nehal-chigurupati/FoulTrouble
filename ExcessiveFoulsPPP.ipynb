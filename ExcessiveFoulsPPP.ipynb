{
  "cells": [
    {
      "cell_type": "code",
      "execution_count": null,
      "metadata": {
        "id": "YaQEamvOEZlu"
      },
      "outputs": [],
      "source": [
        "from nba_api.stats.endpoints import leaguegamelog, playbyplayv3\n",
        "import numpy as np\n",
        "from tqdm import tqdm\n",
        "import pandas as pd"
      ]
    },
    {
      "cell_type": "code",
      "source": [
        "pbp_data = pd.read_csv(\"ALL_PBP_DATA.csv\")"
      ],
      "metadata": {
        "id": "NWyWFLL_1HEw"
      },
      "execution_count": null,
      "outputs": []
    },
    {
      "cell_type": "code",
      "source": [
        "def identify_possessions(df):\n",
        "    #mark possessions ends (indicated by made shots, turnovers, and the end of free throw sequences)\n",
        "    df['possession_end'] = df['actionType'].isin(['Made Shot', 'Turnover']) | (\n",
        "        df['description'].str.contains(\"Free Throw\") &\n",
        "        (~df['description'].shift(-1).str.contains(\"Free Throw\").fillna(False))\n",
        "    )\n",
        "    df['possession_id'] = df['possession_end'].cumsum()\n",
        "    return df"
      ],
      "metadata": {
        "id": "KUIRpw0F1KuX"
      },
      "execution_count": null,
      "outputs": []
    },
    {
      "cell_type": "code",
      "source": [
        "pbp = determine_foul_trouble(pbp_data)"
      ],
      "metadata": {
        "colab": {
          "base_uri": "https://localhost:8080/"
        },
        "id": "E1cXkTQ_4LYr",
        "outputId": "d087cdfa-2949-472a-dae6-8d0e1e1a1b31"
      },
      "execution_count": null,
      "outputs": [
        {
          "output_type": "stream",
          "name": "stderr",
          "text": [
            "<ipython-input-45-6f20c612e872>:4: FutureWarning: Not prepending group keys to the result index of transform-like apply. In the future, the group keys will be included in the index, regardless of whether the applied function returns a like-indexed object.\n",
            "To preserve the previous behavior, use\n",
            "\n",
            "\t>>> .groupby(..., group_keys=False)\n",
            "\n",
            "To adopt the future behavior and silence this warning, use \n",
            "\n",
            "\t>>> .groupby(..., group_keys=True)\n",
            "  df['foul_count'] = df.groupby(['gameId', 'personId', 'period'])['description'].apply(lambda x: x.str.contains('Foul').cumsum())\n"
          ]
        }
      ]
    },
    {
      "cell_type": "code",
      "source": [
        "print(np.unique(pbp[\"foul_count\"]))"
      ],
      "metadata": {
        "colab": {
          "base_uri": "https://localhost:8080/"
        },
        "id": "8xhZ4lpD6TEx",
        "outputId": "a6ae2fc1-dc2b-4daa-e80d-66b3a7881180"
      },
      "execution_count": null,
      "outputs": [
        {
          "output_type": "stream",
          "name": "stdout",
          "text": [
            "[0 1 2 3 4 5 6]\n"
          ]
        }
      ]
    },
    {
      "cell_type": "code",
      "source": [
        "foul_trouble = pbp[pbp[\"foul_trouble\"] == True]"
      ],
      "metadata": {
        "id": "JfwnaF1F6ONi"
      },
      "execution_count": null,
      "outputs": []
    },
    {
      "cell_type": "code",
      "source": [
        "not_foul_trouble = pbp[pbp[\"foul_trouble\"] == False]"
      ],
      "metadata": {
        "id": "rp2PxQR461br"
      },
      "execution_count": null,
      "outputs": []
    },
    {
      "cell_type": "code",
      "source": [
        "num_rows = foul_trouble[(foul_trouble[\"actionType\"] == \"Made Shot\") | (foul_trouble[\"actionType\"] == \"Missed Shot\")].shape[0]\n",
        "print(num_rows)\n"
      ],
      "metadata": {
        "colab": {
          "base_uri": "https://localhost:8080/"
        },
        "id": "K4Bn7pQ37tSJ",
        "outputId": "eb922186-40c6-4166-e652-9b864e67a3f3"
      },
      "execution_count": null,
      "outputs": [
        {
          "output_type": "stream",
          "name": "stdout",
          "text": [
            "67\n"
          ]
        }
      ]
    },
    {
      "cell_type": "code",
      "source": [
        "len(foul_trouble[foul_trouble[\"actionType\"] == \"Made Shot\"]) / num_rows"
      ],
      "metadata": {
        "colab": {
          "base_uri": "https://localhost:8080/"
        },
        "id": "AjI4zbUM7g5p",
        "outputId": "585ee770-bfef-4f96-83d2-88f2d3b00a69"
      },
      "execution_count": null,
      "outputs": [
        {
          "output_type": "execute_result",
          "data": {
            "text/plain": [
              "0.47761194029850745"
            ]
          },
          "metadata": {},
          "execution_count": 75
        }
      ]
    },
    {
      "cell_type": "code",
      "source": [
        "num_rows = not_foul_trouble[(not_foul_trouble[\"actionType\"] == \"Made Shot\") | (not_foul_trouble[\"actionType\"] == \"Missed Shot\")].shape[0]"
      ],
      "metadata": {
        "id": "2Kp0_SWE6txV"
      },
      "execution_count": null,
      "outputs": []
    },
    {
      "cell_type": "code",
      "source": [
        "len(not_foul_trouble[not_foul_trouble[\"actionType\"] == \"Made Shot\"]) / num_rows"
      ],
      "metadata": {
        "colab": {
          "base_uri": "https://localhost:8080/"
        },
        "id": "k7IgwRWW8Bjw",
        "outputId": "75d0c43c-0256-4e4c-e474-227caa2403fd"
      },
      "execution_count": null,
      "outputs": [
        {
          "output_type": "execute_result",
          "data": {
            "text/plain": [
              "0.47483487332870444"
            ]
          },
          "metadata": {},
          "execution_count": 77
        }
      ]
    },
    {
      "cell_type": "code",
      "source": [
        "def determine_foul_trouble(df):\n",
        "    #Assuming a player is in foul trouble if they reach 3+ fouls by the half, 4+ by the 3rd, 5+ by the 4th\n",
        "    foul_limits = {1: 3, 2: 3, 3: 4, 4: 5}\n",
        "    df['foul_count'] = df.groupby(['gameId', 'personId', 'period'])['description'].apply(lambda x: x.str.contains('Foul').cumsum())\n",
        "    df['foul_trouble'] = df.apply(lambda row: row['foul_count'] >= foul_limits.get(row['period'], 5), axis=1)\n",
        "    return df\n"
      ],
      "metadata": {
        "id": "DIsXAu3g3gE4"
      },
      "execution_count": null,
      "outputs": []
    },
    {
      "cell_type": "code",
      "source": [],
      "metadata": {
        "id": "01DmYUrY31rX"
      },
      "execution_count": null,
      "outputs": []
    }
  ],
  "metadata": {
    "colab": {
      "provenance": []
    },
    "kernelspec": {
      "display_name": "Python 3",
      "name": "python3"
    },
    "language_info": {
      "name": "python"
    }
  },
  "nbformat": 4,
  "nbformat_minor": 0
}